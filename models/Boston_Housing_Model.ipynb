{
  "nbformat": 4,
  "nbformat_minor": 0,
  "metadata": {
    "colab": {
      "provenance": [],
      "authorship_tag": "ABX9TyPRUJ/Ua/wmiLZBH9OmL0h6",
      "include_colab_link": true
    },
    "kernelspec": {
      "name": "python3",
      "display_name": "Python 3"
    },
    "language_info": {
      "name": "python"
    }
  },
  "cells": [
    {
      "cell_type": "markdown",
      "metadata": {
        "id": "view-in-github",
        "colab_type": "text"
      },
      "source": [
        "<a href=\"https://colab.research.google.com/github/dbremont/models/blob/main/models/Boston_Housing_Model.ipynb\" target=\"_parent\"><img src=\"https://colab.research.google.com/assets/colab-badge.svg\" alt=\"Open In Colab\"/></a>"
      ]
    },
    {
      "cell_type": "code",
      "execution_count": null,
      "metadata": {
        "id": "7lNQinDz8Oxz"
      },
      "outputs": [],
      "source": [
        "# ..."
      ]
    },
    {
      "cell_type": "markdown",
      "source": [
        "## References"
      ],
      "metadata": {
        "id": "7fTiENqv8aY4"
      }
    },
    {
      "cell_type": "markdown",
      "source": [
        "- [The Boston Housing Dataset](https://www.kaggle.com/code/prasadperera/the-boston-housing-dataset)"
      ],
      "metadata": {
        "id": "QTXTOP788cNQ"
      }
    }
  ]
}