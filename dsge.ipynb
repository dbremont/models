{
  "nbformat": 4,
  "nbformat_minor": 0,
  "metadata": {
    "colab": {
      "provenance": [],
      "authorship_tag": "ABX9TyO3DKxQLCNu6m/ZtlTT6d+d",
      "include_colab_link": true
    },
    "kernelspec": {
      "name": "python3",
      "display_name": "Python 3"
    },
    "language_info": {
      "name": "python"
    }
  },
  "cells": [
    {
      "cell_type": "markdown",
      "metadata": {
        "id": "view-in-github",
        "colab_type": "text"
      },
      "source": [
        "<a href=\"https://colab.research.google.com/github/dbremont/models/blob/main/dsge.ipynb\" target=\"_parent\"><img src=\"https://colab.research.google.com/assets/colab-badge.svg\" alt=\"Open In Colab\"/></a>"
      ]
    },
    {
      "cell_type": "code",
      "execution_count": 9,
      "metadata": {
        "id": "WIPSg0RGV1Ny"
      },
      "outputs": [],
      "source": [
        "import numpy as np\n",
        "import matplotlib.pyplot as plt"
      ]
    },
    {
      "cell_type": "code",
      "source": [
        "# Define the model parameters\n",
        "alpha = 0.3  # Capital share of income\n",
        "beta = 0.99  # Discount rate\n",
        "delta = 0.1  # Depreciation rate\n",
        "rho = 0.9    # Persistence of productivity shocks\n",
        "sigma = 0.1  # Standard deviation of productivity shocks"
      ],
      "metadata": {
        "id": "f_nz46OaV4j1"
      },
      "execution_count": 10,
      "outputs": []
    },
    {
      "cell_type": "code",
      "source": [
        "# Define the equations of the model\n",
        "def production_function(k, z):\n",
        "    return k**alpha * np.exp(z)"
      ],
      "metadata": {
        "id": "BbictgyNWg_s"
      },
      "execution_count": 11,
      "outputs": []
    },
    {
      "cell_type": "code",
      "source": [
        "def capital_accumulation(k, i):\n",
        "    return (1 - delta) * k + i"
      ],
      "metadata": {
        "id": "Mw9AzM31Zfoh"
      },
      "execution_count": 12,
      "outputs": []
    },
    {
      "cell_type": "code",
      "source": [
        "def productivity_shock(z):\n",
        "    return rho * z + (1 - rho) * np.random.normal(scale=sigma)"
      ],
      "metadata": {
        "id": "93_mvsBhZiIR"
      },
      "execution_count": 13,
      "outputs": []
    },
    {
      "cell_type": "code",
      "source": [
        "# Define the simulation parameters\n",
        "T = 100  # Number of time periods\n",
        "k0 = 1   # Initial level of capital"
      ],
      "metadata": {
        "id": "x2aocsP6Zjqu"
      },
      "execution_count": 14,
      "outputs": []
    },
    {
      "cell_type": "code",
      "source": [
        "# Simulate the behavior of the economy over time\n",
        "k = np.zeros(T+1)\n",
        "k[0] = k0\n",
        "z = np.zeros(T)\n",
        "for t in range(T):\n",
        "    z[t] = productivity_shock(z[t-1])\n",
        "    y = production_function(k[t], z[t])\n",
        "    i = y - k[t+1]\n",
        "    k[t+1] = capital_accumulation(k[t], i)"
      ],
      "metadata": {
        "id": "P6pkOzm3ZlNF"
      },
      "execution_count": 15,
      "outputs": []
    },
    {
      "cell_type": "code",
      "source": [
        "\n",
        "# Visualize the results of the simulation\n",
        "plt.plot(range(T+1), k)\n",
        "plt.xlabel('Time')\n",
        "plt.ylabel('Capital')\n",
        "plt.show()"
      ],
      "metadata": {
        "colab": {
          "base_uri": "https://localhost:8080/",
          "height": 279
        },
        "id": "ybpOWfS4ZmqQ",
        "outputId": "8c611745-e1eb-4a01-f08f-266a527f1a46"
      },
      "execution_count": 16,
      "outputs": [
        {
          "output_type": "display_data",
          "data": {
            "text/plain": [
              "<Figure size 432x288 with 1 Axes>"
            ],
            "image/png": "[encoded data removed]"
          },
          "metadata": {
            "needs_background": "light"
          }
        }
      ]
    }
  ]
}